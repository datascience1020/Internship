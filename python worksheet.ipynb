{
 "cells": [
  {
   "cell_type": "code",
   "execution_count": 2,
   "id": "645133e0",
   "metadata": {},
   "outputs": [
    {
     "data": {
      "text/plain": [
       "0"
      ]
     },
     "execution_count": 2,
     "metadata": {},
     "output_type": "execute_result"
    }
   ],
   "source": [
    "#Q2 \n",
    "2//3"
   ]
  },
  {
   "cell_type": "code",
   "execution_count": null,
   "id": "c5e70083",
   "metadata": {},
   "outputs": [],
   "source": [
    "#Q1\n",
    "#the operators which is used to calculate remainder in a division\n",
    " # %"
   ]
  },
  {
   "cell_type": "code",
   "execution_count": 3,
   "id": "06d704bd",
   "metadata": {},
   "outputs": [
    {
     "data": {
      "text/plain": [
       "24"
      ]
     },
     "execution_count": 3,
     "metadata": {},
     "output_type": "execute_result"
    }
   ],
   "source": [
    "#Q3\n",
    "6<<2"
   ]
  },
  {
   "cell_type": "code",
   "execution_count": 5,
   "id": "00ad570a",
   "metadata": {},
   "outputs": [
    {
     "data": {
      "text/plain": [
       "2"
      ]
     },
     "execution_count": 5,
     "metadata": {},
     "output_type": "execute_result"
    }
   ],
   "source": [
    "#Q4\n",
    "6&2"
   ]
  },
  {
   "cell_type": "code",
   "execution_count": 6,
   "id": "c4805a5e",
   "metadata": {},
   "outputs": [
    {
     "data": {
      "text/plain": [
       "6"
      ]
     },
     "execution_count": 6,
     "metadata": {},
     "output_type": "execute_result"
    }
   ],
   "source": [
    "#Q5\n",
    "6|2"
   ]
  },
  {
   "cell_type": "code",
   "execution_count": 7,
   "id": "8689d5f4",
   "metadata": {},
   "outputs": [],
   "source": [
    "#Q6\n",
    "#D) None of the above"
   ]
  },
  {
   "cell_type": "code",
   "execution_count": 8,
   "id": "cd5ada87",
   "metadata": {},
   "outputs": [],
   "source": [
    "#Q7\n",
    "#raise keyword used to raise an exeption."
   ]
  },
  {
   "cell_type": "code",
   "execution_count": 9,
   "id": "2c0ac413",
   "metadata": {},
   "outputs": [],
   "source": [
    "#Q8\n",
    "#in defining in generator"
   ]
  },
  {
   "cell_type": "code",
   "execution_count": 10,
   "id": "34d58448",
   "metadata": {},
   "outputs": [],
   "source": [
    "#Q9 \n",
    "#A) _abc \n",
    "#C) abc2"
   ]
  },
  {
   "cell_type": "code",
   "execution_count": 11,
   "id": "a2058e43",
   "metadata": {},
   "outputs": [],
   "source": [
    "#Q10\n",
    " #yeild , raise "
   ]
  },
  {
   "cell_type": "code",
   "execution_count": null,
   "id": "75c58afc",
   "metadata": {},
   "outputs": [],
   "source": [
    "#Q11\n",
    "fact=1\n",
    "num= int (input(\"enter the number: \"))\n",
    "org = num\n",
    "while num > 0:\n",
    "    fact = fact * num\n",
    "    num = num - 1\n",
    "print (\"the factorial of\" , org ,\"is\",fact)"
   ]
  },
  {
   "cell_type": "code",
   "execution_count": 1,
   "id": "9a6d4b2f",
   "metadata": {},
   "outputs": [
    {
     "name": "stdout",
     "output_type": "stream",
     "text": [
      "Enter natural number:0\n",
      "0 is prime number\n"
     ]
    }
   ],
   "source": [
    "#Q12\n",
    "number = int (input('Enter natural number:'))\n",
    "if number > 1 :\n",
    "    print (\"number needs to be graeter than one\")\n",
    "elif number == 1 :\n",
    "    print (number, \"is neither prime not composit\")\n",
    "else :\n",
    "    for divisor in range (2,(number//2)+1):\n",
    "        if(number % divisor) == 0 :\n",
    "            print (number , \"is composite number\")\n",
    "            braek\n",
    "    else:\n",
    "        print (number,\"is prime number\")\n",
    "        \n",
    "    \n",
    "    \n",
    "        \n",
    "        \n",
    "\n"
   ]
  },
  {
   "cell_type": "code",
   "execution_count": 2,
   "id": "599956da",
   "metadata": {},
   "outputs": [],
   "source": [
    "#Q13\n",
    "# python program  to check whether a given string is palindrome or not\n",
    "\n",
    "my_string = input (\"enter string:\")\n",
    "my_string = my_string.casefold()\n",
    "rev_string = reversed (my_string)\n",
    "\n",
    "if list(my_string) == list (rev_string):\n",
    "    print (\"the string is palindrome\")\n",
    "else:\n",
    "    print(\"the string is not palindrome\")"
   ]
  },
  {
   "cell_type": "code",
   "execution_count": 8,
   "id": "1922a62c",
   "metadata": {
    "scrolled": true
   },
   "outputs": [
    {
     "name": "stdout",
     "output_type": "stream",
     "text": [
      "enter any string:paython programming \n",
      "enter character to chek frequency :m\n",
      "2\n"
     ]
    }
   ],
   "source": [
    "#Q15\n",
    "#python program to print the frequency of each of the characters present in a given string\n",
    "string = input (\"enter any string:\")\n",
    "c = input (\"enter character to chek frequency :\")\n",
    "count = 0\n",
    "for input in string :\n",
    "    if input == c :\n",
    "        count+= 1\n",
    "print (count)\n",
    "    \n"
   ]
  },
  {
   "cell_type": "code",
   "execution_count": null,
   "id": "28d3f990",
   "metadata": {},
   "outputs": [],
   "source": [
    "#Q14\n",
    "#python program to find third side of right angle triangle\n",
    "\n",
    "from math import sqrt\n",
    "print (\"Enter length :\")\n",
    "a = float (input (\"a : \"))\n",
    "b = float (input (\"a : \"))\n",
    "\n",
    "c = sqrt (a** + b**2)\n",
    "print (\"the length of third side is\" , c)"
   ]
  },
  {
   "cell_type": "code",
   "execution_count": null,
   "id": "999b68d8",
   "metadata": {},
   "outputs": [],
   "source": []
  },
  {
   "cell_type": "code",
   "execution_count": null,
   "id": "409e1de5",
   "metadata": {},
   "outputs": [],
   "source": []
  }
 ],
 "metadata": {
  "kernelspec": {
   "display_name": "Python 3",
   "language": "python",
   "name": "python3"
  },
  "language_info": {
   "codemirror_mode": {
    "name": "ipython",
    "version": 3
   },
   "file_extension": ".py",
   "mimetype": "text/x-python",
   "name": "python",
   "nbconvert_exporter": "python",
   "pygments_lexer": "ipython3",
   "version": "3.8.8"
  }
 },
 "nbformat": 4,
 "nbformat_minor": 5
}
